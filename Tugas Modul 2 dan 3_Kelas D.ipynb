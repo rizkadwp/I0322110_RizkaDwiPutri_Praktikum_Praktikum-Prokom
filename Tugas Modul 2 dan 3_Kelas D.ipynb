{
 "cells": [
  {
   "cell_type": "code",
   "execution_count": null,
   "metadata": {},
   "outputs": [],
   "source": [
    "print(input(\"Nama: \"))\n",
    "print(input(\"NIM: \"))\n",
    "print(input(\"Kelas: \"))"
   ]
  },
  {
   "attachments": {},
   "cell_type": "markdown",
   "metadata": {},
   "source": [
    "## 1."
   ]
  },
  {
   "attachments": {},
   "cell_type": "markdown",
   "metadata": {},
   "source": [
    "diketahui dimensi sebuah aquarium tanpa penutup atas sebagai berikut:\n",
    "\n",
    "```python\n",
    "p = 11\n",
    "l = 1.99\n",
    "t = 25.87\n",
    "```\n",
    "buatkan program sederhana untuk menghitung diagonal tiap sisi dan luas permukaan aquarium tersebut tanpa menggunakan module math."
   ]
  },
  {
   "cell_type": "code",
   "execution_count": 3,
   "metadata": {},
   "outputs": [
    {
     "name": "stdout",
     "output_type": "stream",
     "text": [
      "Diagonal sisi 1:  25.946425572706545\n",
      "Diagonal sisi 2:  28.11150831954771\n",
      "Diagonal sisi 3:  11.17855536283647\n",
      "Luas permukaan:  715.8825999999999\n"
     ]
    }
   ],
   "source": [
    "p = 11\n",
    "l = 1.99\n",
    "t = 25.87\n",
    "# menghitung diagonal sisi\n",
    "diagonal_1 = ((l ** 2) + (t ** 2)) ** 0.5\n",
    "diagonal_2 = ((p ** 2) + (t ** 2)) ** 0.5\n",
    "diagonal_3 = ((p ** 2) + (l ** 2)) ** 0.5\n",
    "\n",
    "# menghitung permukaan aquarium\n",
    "luas_permukaan = 2 * ((p * l) + (p * t) + (l * t))\n",
    "\n",
    "# menampilkan hasil\n",
    "print(\"Diagonal sisi 1: \", diagonal_1)\n",
    "print(\"Diagonal sisi 2: \", diagonal_2)\n",
    "print(\"Diagonal sisi 3: \", diagonal_3)\n",
    "print(\"Luas permukaan: \", luas_permukaan)"
   ]
  },
  {
   "attachments": {},
   "cell_type": "markdown",
   "metadata": {},
   "source": [
    "## 2."
   ]
  },
  {
   "attachments": {},
   "cell_type": "markdown",
   "metadata": {},
   "source": [
    "diberikan data nilai mahasiswa sebagai berikut:"
   ]
  },
  {
   "cell_type": "code",
   "execution_count": 73,
   "metadata": {},
   "outputs": [
    {
     "ename": "TypeError",
     "evalue": "'int' object is not callable",
     "output_type": "error",
     "traceback": [
      "\u001b[1;31m---------------------------------------------------------------------------\u001b[0m",
      "\u001b[1;31mTypeError\u001b[0m                                 Traceback (most recent call last)",
      "Cell \u001b[1;32mIn[73], line 9\u001b[0m\n\u001b[0;32m      1\u001b[0m mahasiswa \u001b[39m=\u001b[39m {\n\u001b[0;32m      2\u001b[0m     \u001b[39m'\u001b[39m\u001b[39mFrank\u001b[39m\u001b[39m'\u001b[39m: \u001b[39m80\u001b[39m,\n\u001b[0;32m      3\u001b[0m     \u001b[39m'\u001b[39m\u001b[39mAbagnale\u001b[39m\u001b[39m'\u001b[39m : \u001b[39m75\u001b[39m,\n\u001b[1;32m   (...)\u001b[0m\n\u001b[0;32m      6\u001b[0m     \u001b[39m'\u001b[39m\u001b[39mAriadne\u001b[39m\u001b[39m'\u001b[39m: \u001b[39m70\u001b[39m\n\u001b[0;32m      7\u001b[0m }\n\u001b[0;32m      8\u001b[0m rata_rata \u001b[39m=\u001b[39m \u001b[39msum\u001b[39m(mahasiswa\u001b[39m.\u001b[39mvalues()) \u001b[39m/\u001b[39m \u001b[39mlen\u001b[39m(mahasiswa)\n\u001b[1;32m----> 9\u001b[0m nilai_tertinggi \u001b[39m=\u001b[39m \u001b[39mmax\u001b[39;49m(mahasiswa, key\u001b[39m=\u001b[39;49mmahasiswa\u001b[39m.\u001b[39;49mget)\n\u001b[0;32m     10\u001b[0m nilai_terendah \u001b[39m=\u001b[39m \u001b[39mmin\u001b[39m(mahasiswa, key\u001b[39m=\u001b[39mmahasiswa\u001b[39m.\u001b[39mget)\n\u001b[0;32m     12\u001b[0m \u001b[39mprint\u001b[39m(\u001b[39m\"\u001b[39m\u001b[39mNilai rata-rata adalah:\u001b[39m\u001b[39m\"\u001b[39m, rata_rata)\n",
      "\u001b[1;31mTypeError\u001b[0m: 'int' object is not callable"
     ]
    }
   ],
   "source": [
    "mahasiswa = {\n",
    "    'Frank': 80,\n",
    "    'Abagnale' : 75,\n",
    "    'Cobb' : 90,\n",
    "    'Andy Dufresne' : 85,\n",
    "    'Ariadne': 70\n",
    "}\n",
    "rata_rata = sum(mahasiswa.values()) / len(mahasiswa)\n",
    "nilai_tertinggi = max(mahasiswa, key=mahasiswa.get)\n",
    "nilai_terendah = min(mahasiswa, key=mahasiswa.get)\n",
    "\n",
    "print(\"Nilai rata-rata adalah:\", rata_rata)\n",
    "print(\"Nilai tertinggi adalah:\", nilai_tertinggi, \"dengan nilai\", mahasiswa[nilai_tertinggi])\n",
    "print(\"Nilai terendah adalah:\", nilai_terendah, \"dengan nilai\", mahasiswa[nilai_terendah])\n",
    "\n",
    "#run python file in terminal\n"
   ]
  },
  {
   "attachments": {},
   "cell_type": "markdown",
   "metadata": {},
   "source": [
    "buatlah program sederhana untuk menghitung nilai rata-rata semua mahasiswa dan mencari siapa yang mendapatkan nilai tertinggi dan nilai terendah. \n",
    "> *note: tidak perlu menggunakan loops untuk membuat program nya*"
   ]
  },
  {
   "attachments": {},
   "cell_type": "markdown",
   "metadata": {},
   "source": [
    "## 3. "
   ]
  },
  {
   "attachments": {},
   "cell_type": "markdown",
   "metadata": {},
   "source": [
    "diberikan list aslab sebagai berikut:\n",
    "```python\n",
    "list_aslab = [\n",
    "    {\"nama\": \"Berlian Safri Prakoso\", \"nim\": \"I0320017\", \"kontak\": \"0858XXXXXXXX\"},\n",
    "    {\"nama\": \"Halidya Siti Hanifah\", \"nim\": \"I0320044\", \"kontak\": \"0878XXXXXXXX\"},\n",
    "    {\"nama\": \"Nurki Putra Mahardika\", \"nim\": \"I0320076\", \"kontak\": \"0877XXXXXXXX\"},\n",
    "    {\"nama\": \"Aji Manarul Aziz\", \"nim\": \"I0320119\", \"kontak\": \"0812XXXXXXXX\"},\n",
    "    {\"nama\": \"Alica Ayu Fitriani\", \"nim\": \"I0320121\", \"kontak\": \"0896XXXXXXXX\"},\n",
    "    {\"nama\": \"Dendy Halim Kusuma\", \"nim\": \"I0320125\", \"kontak\": \"0822XXXXXXXX\"}\n",
    "]\n",
    "```\n",
    "* **A** Tuliskan kode untuk mengakses informasi tentang \"nama\" dari semua aslab mulai dari index 1 sampai 5\n",
    "* **B** Tambahkan informasi berikut pada data aslab:\n",
    "```python\n",
    "    surel = [\"berlian@student.uns.ac.id\",\n",
    "          \"halidya@student.uns.ac.id\",\n",
    "          \"nurki@student.uns.ac.id\",\n",
    "          \"manarul@student.uns.ac.id\",\n",
    "          \"alica@student.uns.ac.id\",\n",
    "          \"dendy@student.uns.ac.id\"]\n",
    "```\n",
    "> *note: kalian hanya boleh menggunakan key-value pair yang disebutkan di dalam teks, tanpa menggunakan informasi tambahan yang diambil pada list yang ada*"
   ]
  },
  {
   "cell_type": "code",
   "execution_count": 64,
   "metadata": {},
   "outputs": [
    {
     "name": "stdout",
     "output_type": "stream",
     "text": [
      "Halidya Siti Hanifah\n",
      "Nurki Putra Mahardika\n",
      "Aji Manarul Aziz\n",
      "Alica Ayu Fitriani\n",
      "Dendy Halim Kusuma\n"
     ]
    }
   ],
   "source": [
    "list_aslab = [\n",
    "    {\"nama\": \"Berlian Safri Prakoso\", \"nim\": \"I0320017\", \"kontak\": \"0858XXXXXXXX\"},\n",
    "    {\"nama\": \"Halidya Siti Hanifah\", \"nim\": \"I0320044\", \"kontak\": \"0878XXXXXXXX\"},\n",
    "    {\"nama\": \"Nurki Putra Mahardika\", \"nim\": \"I0320076\", \"kontak\": \"0877XXXXXXXX\"},\n",
    "    {\"nama\": \"Aji Manarul Aziz\", \"nim\": \"I0320119\", \"kontak\": \"0812XXXXXXXX\"},\n",
    "    {\"nama\": \"Alica Ayu Fitriani\", \"nim\": \"I0320121\", \"kontak\": \"0896XXXXXXXX\"},\n",
    "    {\"nama\": \"Dendy Halim Kusuma\", \"nim\": \"I0320125\", \"kontak\": \"0822XXXXXXXX\"}\n",
    "]\n",
    "\n",
    "# kode untuk memunculkan nama setiap aslab\n",
    "for aslab in list_aslab[1:6]:\n",
    "    print(aslab[\"nama\"])\n",
    "\n",
    "# data surel yang siap ditambahkan\n",
    "surel = [\"berlian@student.uns.ac.id\",\n",
    "          \"halidya@student.uns.ac.id\",\n",
    "          \"nurki@student.uns.ac.id\",\n",
    "          \"manarul@student.uns.ac.id\",\n",
    "          \"alica@student.uns.ac.id\",\n",
    "          \"dendy@student.uns.ac.id\"]\n",
    "\n",
    "# kode untuk menambahkan informasi surel ke list \n",
    "for i in range(len(list_aslab)):\n",
    "    list_aslab[i][\"surel\"] = surel [i]"
   ]
  }
 ],
 "metadata": {
  "kernelspec": {
   "display_name": "Python 3",
   "language": "python",
   "name": "python3"
  },
  "language_info": {
   "codemirror_mode": {
    "name": "ipython",
    "version": 3
   },
   "file_extension": ".py",
   "mimetype": "text/x-python",
   "name": "python",
   "nbconvert_exporter": "python",
   "pygments_lexer": "ipython3",
   "version": "3.11.2"
  },
  "orig_nbformat": 4,
  "vscode": {
   "interpreter": {
    "hash": "5addf786bcd861d1ce5006f23111f8cbb206731e5b61b0a5632ba9e0252558a8"
   }
  }
 },
 "nbformat": 4,
 "nbformat_minor": 2
}
